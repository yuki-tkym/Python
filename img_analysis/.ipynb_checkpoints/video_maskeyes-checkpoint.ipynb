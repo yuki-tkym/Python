{
 "cells": [
  {
   "cell_type": "code",
   "execution_count": 16,
   "metadata": {},
   "outputs": [],
   "source": [
    "import cv2\n",
    "\n",
    "# cascasde検出器（目）を作成\n",
    "cascade_file = \"haarcascade_eye.xml\"\n",
    "cascade = cv2.CascadeClassifier(cascade_file)\n",
    "\n",
    "# 認識する目の最小のサイズ\n",
    "e_minsize = (20,20)\n",
    "\n",
    "# 画像取得\n",
    "video_size = (500,300) # 画面サイズ\n",
    "capture = cv2.VideoCapture(0)\n",
    "\n",
    "# WMVファイル動画書き出し用のオブジェクト生成\n",
    "format = cv2.VideoWriter_fourcc('W', 'M', 'V', '1')\n",
    "fps = 20.0\n",
    "size = (500,300)\n",
    "writer = cv2.VideoWriter('videos/maskeyes.wmv',format,fps, size)\n",
    "\n",
    "while True :\n",
    "    _, frame = capture.read()\n",
    "    frame = cv2.resize(frame,video_size)\n",
    "    f_gray = cv2.cvtColor(frame, cv2.COLOR_BGR2GRAY)\n",
    "    # 目の認識実行\n",
    "    eyes_list = cascade.detectMultiScale(f_gray, minSize = e_minsize)\n",
    "    # 目のマスキング\n",
    "    for (x, y, w, h) in eyes_list:\n",
    "        black = (0 ,0 ,0)\n",
    "        cv2.rectangle(frame, (x, y),(x + w, y + h), black,-1)\n",
    "    # 動画書き込み\n",
    "    writer.write(frame)\n",
    "    # マスキング済みの画像の出力\n",
    "    cv2.imshow(\"MaskEyes Camera\",frame)\n",
    "    # Enterキークリックで終了\n",
    "    if cv2.waitKey(1) == 13: break\n",
    "\n",
    "capture.release()\n",
    "cv2.destroyAllWindows()\n"
   ]
  },
  {
   "cell_type": "code",
   "execution_count": null,
   "metadata": {},
   "outputs": [],
   "source": []
  },
  {
   "cell_type": "code",
   "execution_count": null,
   "metadata": {},
   "outputs": [],
   "source": []
  }
 ],
 "metadata": {
  "kernelspec": {
   "display_name": "Python 3",
   "language": "python",
   "name": "python3"
  },
  "language_info": {
   "codemirror_mode": {
    "name": "ipython",
    "version": 3
   },
   "file_extension": ".py",
   "mimetype": "text/x-python",
   "name": "python",
   "nbconvert_exporter": "python",
   "pygments_lexer": "ipython3",
   "version": "3.7.0"
  }
 },
 "nbformat": 4,
 "nbformat_minor": 2
}
