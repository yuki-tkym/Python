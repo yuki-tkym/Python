{
 "cells": [
  {
   "cell_type": "code",
   "execution_count": 1,
   "metadata": {},
   "outputs": [
    {
     "name": "stdout",
     "output_type": "stream",
     "text": [
      "目の座標（x座標,y座標,幅,高さ）： 298 67 23 23\n",
      "目の座標（x座標,y座標,幅,高さ）： 304 167 64 64\n",
      "目の座標（x座標,y座標,幅,高さ）： 328 68 23 23\n",
      "目の座標（x座標,y座標,幅,高さ）： 170 365 46 46\n"
     ]
    },
    {
     "ename": "NameError",
     "evalue": "name 'plt' is not defined",
     "output_type": "error",
     "traceback": [
      "\u001b[1;31m---------------------------------------------------------------------------\u001b[0m",
      "\u001b[1;31mNameError\u001b[0m                                 Traceback (most recent call last)",
      "\u001b[1;32m<ipython-input-1-54cc8eff3ac4>\u001b[0m in \u001b[0;36m<module>\u001b[1;34m()\u001b[0m\n\u001b[0;32m     31\u001b[0m \u001b[1;31m# マスキング済みの画像の出力\u001b[0m\u001b[1;33m\u001b[0m\u001b[1;33m\u001b[0m\u001b[0m\n\u001b[0;32m     32\u001b[0m \u001b[0mcv2\u001b[0m\u001b[1;33m.\u001b[0m\u001b[0mimwrite\u001b[0m\u001b[1;33m(\u001b[0m\u001b[0mout_dir\u001b[0m \u001b[1;33m+\u001b[0m \u001b[1;34m\"/\"\u001b[0m \u001b[1;33m+\u001b[0m \u001b[0mf_name\u001b[0m \u001b[1;33m+\u001b[0m\u001b[1;34m\"_maskeyes.png\"\u001b[0m\u001b[1;33m,\u001b[0m \u001b[0mimg\u001b[0m\u001b[1;33m)\u001b[0m\u001b[1;33m\u001b[0m\u001b[0m\n\u001b[1;32m---> 33\u001b[1;33m \u001b[0mplt\u001b[0m\u001b[1;33m.\u001b[0m\u001b[0mimshow\u001b[0m\u001b[1;33m(\u001b[0m\u001b[0mcv2\u001b[0m\u001b[1;33m.\u001b[0m\u001b[0mcvtColor\u001b[0m\u001b[1;33m(\u001b[0m\u001b[0mimg\u001b[0m\u001b[1;33m,\u001b[0m \u001b[0mcv2\u001b[0m\u001b[1;33m.\u001b[0m\u001b[0mCOLOR_BGR2RGB\u001b[0m\u001b[1;33m)\u001b[0m\u001b[1;33m)\u001b[0m\u001b[1;33m\u001b[0m\u001b[0m\n\u001b[0m\u001b[0;32m     34\u001b[0m \u001b[1;33m\u001b[0m\u001b[0m\n\u001b[0;32m     35\u001b[0m \u001b[0mplt\u001b[0m\u001b[1;33m.\u001b[0m\u001b[0mshow\u001b[0m\u001b[1;33m(\u001b[0m\u001b[1;33m)\u001b[0m\u001b[1;33m\u001b[0m\u001b[0m\n",
      "\u001b[1;31mNameError\u001b[0m: name 'plt' is not defined"
     ]
    }
   ],
   "source": [
    "import matplotlib.pyplot as plt\n",
    "import cv2\n",
    "\n",
    "# cascasde検出器（目）を作成\n",
    "cascade_file = \"haarcascade_eye.xml\"\n",
    "cascade = cv2.CascadeClassifier(cascade_file)\n",
    "\n",
    "# 読み込んだ画像→グレースケール変換\n",
    "in_dir = \"images/input\"\n",
    "out_dir = \"images/output\"\n",
    "f_name = \"tomoko_t\"\n",
    "f_type = \"jpg\"\n",
    "# 認識する目の最小のサイズ\n",
    "e_minsize = (20,20)\n",
    "img = cv2.imread(in_dir + \"/\" + f_name + \".\" + f_type)\n",
    "img_gray = cv2.cvtColor(img, cv2.COLOR_BGR2GRAY)\n",
    "\n",
    "# 目の認識実行\n",
    "eyes_list = cascade.detectMultiScale(img_gray, minSize = e_minsize)\n",
    "\n",
    "# 結果出力\n",
    "if len(eyes_list) == 0:\n",
    "    print(\"検出なし\")\n",
    "    quit()\n",
    "    \n",
    "# 目のマスキング\n",
    "for (x, y, w, h) in eyes_list:\n",
    "    print(\"目の座標（x座標,y座標,幅,高さ）：\",x ,y ,w ,h)\n",
    "    black = (0 ,0 ,0)\n",
    "    cv2.rectangle(img, (x, y),(x + w, y + h), black,-1)\n",
    "    \n",
    "# マスキング済みの画像の出力\n",
    "cv2.imwrite(out_dir + \"/\" + f_name +\"_maskeyes.png\", img)\n",
    "plt.imshow(cv2.cvtColor(img, cv2.COLOR_BGR2RGB))\n",
    "\n",
    "plt.show()"
   ]
  },
  {
   "cell_type": "code",
   "execution_count": null,
   "metadata": {},
   "outputs": [],
   "source": []
  },
  {
   "cell_type": "code",
   "execution_count": null,
   "metadata": {},
   "outputs": [],
   "source": []
  }
 ],
 "metadata": {
  "kernelspec": {
   "display_name": "Python 3",
   "language": "python",
   "name": "python3"
  },
  "language_info": {
   "codemirror_mode": {
    "name": "ipython",
    "version": 3
   },
   "file_extension": ".py",
   "mimetype": "text/x-python",
   "name": "python",
   "nbconvert_exporter": "python",
   "pygments_lexer": "ipython3",
   "version": "3.7.0"
  }
 },
 "nbformat": 4,
 "nbformat_minor": 2
}
